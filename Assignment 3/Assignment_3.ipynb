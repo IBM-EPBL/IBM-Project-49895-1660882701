{
 "cells": [
  {
   "cell_type": "code",
   "execution_count": null,
   "metadata": {},
   "outputs": [],
   "source": [
    "# Extract data\n",
    "\n",
    "!unzip '/content/Flowers-Dataset.zip'"
   ]
  },
  {
   "cell_type": "code",
   "execution_count": null,
   "metadata": {},
   "outputs": [],
   "source": [
    "from tensorflow.keras.preprocessing.image import ImageDataGenerator"
   ]
  },
  {
   "cell_type": "markdown",
   "metadata": {},
   "source": [
    "# Image Augmentation"
   ]
  },
  {
   "cell_type": "code",
   "execution_count": null,
   "metadata": {},
   "outputs": [],
   "source": [
    "train_datagen = ImageDataGenerator(rescale=1./255,\n",
    "                                   zoom_range=0.2,\n",
    "                                   horizontal_flip=True)"
   ]
  },
  {
   "cell_type": "code",
   "execution_count": null,
   "metadata": {},
   "outputs": [],
   "source": [
    "xtrain = train_datagen.flow_from_directory('/content/flowers',\n",
    "                                           target_size=(64,64),\n",
    "                                           class_mode='categorical',\n",
    "                                           batch_size=100)"
   ]
  },
  {
   "cell_type": "markdown",
   "metadata": {},
   "source": [
    "# Add Layers(Convolution, MaxPooling, Flatten, Dense-(Hidden Layers), Output)"
   ]
  },
  {
   "cell_type": "code",
   "execution_count": null,
   "metadata": {},
   "outputs": [],
   "source": [
    "from tensorflow.keras.models import Sequential\n",
    "from tensorflow.keras.layers import Convolution2D, MaxPooling2D, Flatten, Dense"
   ]
  },
  {
   "cell_type": "code",
   "execution_count": null,
   "metadata": {},
   "outputs": [],
   "source": [
    "model = Sequential() # create model sequence\n",
    "model.add(Convolution2D(32,(3,3),activation='relu',input_shape=(64,64,3))) \n",
    "model.add(MaxPooling2D(pool_size=(2, 2)))\n",
    "model.add(Flatten()) \n",
    "model.add(Dense(300,activation='relu')) \n",
    "model.add(Dense(150,activation='relu')) \n",
    "model.add(Dense(5,activation='softmax'))"
   ]
  },
  {
   "cell_type": "markdown",
   "metadata": {},
   "source": [
    "# Compile the Model"
   ]
  },
  {
   "cell_type": "code",
   "execution_count": null,
   "metadata": {},
   "outputs": [],
   "source": [
    "model.compile(optimizer='adam',loss='categorical_crossentropy',metrics=['accuracy'])"
   ]
  },
  {
   "cell_type": "markdown",
   "metadata": {},
   "source": [
    "# Fit the Model"
   ]
  },
  {
   "cell_type": "code",
   "execution_count": null,
   "metadata": {},
   "outputs": [],
   "source": [
    "from tensorflow.keras.callbacks import EarlyStopping, ReduceLROnPlateau"
   ]
  },
  {
   "cell_type": "code",
   "execution_count": null,
   "metadata": {},
   "outputs": [],
   "source": [
    "early_stop = EarlyStopping(monitor='val_accuracy', \n",
    "                           patience=5)\n",
    "\n",
    "lr = ReduceLROnPlateau(monitor='val_accuaracy', \n",
    "                       factor=0.5, \n",
    "                       min_lr=0.00001)\n",
    "\n",
    "callback = [early_stop,lr]"
   ]
  },
  {
   "cell_type": "code",
   "execution_count": null,
   "metadata": {},
   "outputs": [],
   "source": [
    "model.fit_generator(xtrain,\n",
    "                    steps_per_epoch=len(xtrain),\n",
    "                    epochs=50,\n",
    "                    callbacks=callback,\n",
    "                    validation_data=xtest,\n",
    "                    validation_steps=len(xtest))"
   ]
  },
  {
   "cell_type": "markdown",
   "metadata": {},
   "source": [
    "# Save the Model"
   ]
  },
  {
   "cell_type": "code",
   "execution_count": null,
   "metadata": {},
   "outputs": [],
   "source": [
    "model.save('flowers.h5')"
   ]
  },
  {
   "cell_type": "markdown",
   "metadata": {},
   "source": [
    "# Test the Model"
   ]
  },
  {
   "cell_type": "code",
   "execution_count": null,
   "metadata": {},
   "outputs": [],
   "source": [
    "from tensorflow.keras.preprocessing import image\n",
    "import numpy as np"
   ]
  },
  {
   "cell_type": "code",
   "execution_count": null,
   "metadata": {},
   "outputs": [],
   "source": [
    "# Daisy\n",
    "\n",
    "img = image.load_img('/content/flowers/daisy/99306615_739eb94b9e_m.jpeg',target_size=(64,64)) \n",
    "x = image.img_to_array(img)\n",
    "x = np.expand_dims(x,axis=0)\n",
    "pred = np.argmax(model.predict(x))\n",
    "op = ['daisy','dandelion','rose','sunflower','tulip']\n",
    "op[pred]"
   ]
  },
  {
   "cell_type": "code",
   "execution_count": null,
   "metadata": {},
   "outputs": [],
   "source": [
    "# Rose\n",
    "\n",
    "img = image.load_img('/content/flowers/rose/172311368_49412f881b.jpeg',target_size=(64,64)) \n",
    "x = image.img_to_array(img)\n",
    "x = np.expand_dims(x,axis=0)\n",
    "pred = np.argmax(model.predict(x))\n",
    "op = ['daisy','dandelion','rose','sunflower','tulip']\n",
    "op[pred]"
   ]
  },
  {
   "cell_type": "code",
   "execution_count": null,
   "metadata": {},
   "outputs": [],
   "source": [
    "# Sunflower\n",
    "\n",
    "img = image.load_img('/content/flowers/sunflower/40410963_3ac280f23a_n.jpeg',target_size=(64,64)) \n",
    "x = image.img_to_array(img)\n",
    "x = np.expand_dims(x,axis=0)\n",
    "pred = np.argmax(model.predict(x))\n",
    "op = ['daisy','dandelion','rose','sunflower','tulip']\n",
    "op[pred]"
   ]
  },
  {
   "cell_type": "code",
   "execution_count": null,
   "metadata": {},
   "outputs": [],
   "source": [
    "# Tulip\n",
    "\n",
    "img = image.load_img('/content/flowers/tulip/110147301_ad921e2828.jpeg',target_size=(64,64)) \n",
    "x = image.img_to_array(img)\n",
    "x = np.expand_dims(x,axis=0)\n",
    "pred = np.argmax(model.predict(x))\n",
    "op = ['daisy','dandelion','rose','sunflower','tulip']\n",
    "op[pred]"
   ]
  }
 ],
 "metadata": {
  "kernelspec": {
   "display_name": "Python 3",
   "language": "python",
   "name": "python3"
  },
  "language_info": {
   "codemirror_mode": {
    "name": "ipython",
    "version": 3
   },
   "file_extension": ".py",
   "mimetype": "text/x-python",
   "name": "python",
   "nbconvert_exporter": "python",
   "pygments_lexer": "ipython3",
   "version": "3.8.5"
  }
 },
 "nbformat": 4,
 "nbformat_minor": 4
}
