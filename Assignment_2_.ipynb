{
  "cells": [
    {
      "cell_type": "markdown",
      "metadata": {
        "id": "vj8flNBBcSCW"
      },
      "source": [
        "# **Load the dataset**\n"
      ]
    },
    {
      "cell_type": "code",
      "execution_count": null,
      "metadata": {
        "id": "7oERv9FcdrI2"
      },
      "outputs": [],
      "source": [
        "import numpy as np\n",
        "import pandas as pd\n",
        "import matplotlib.pyplot as plt"
      ]
    },
    {
      "cell_type": "code",
      "execution_count": null,
      "metadata": {
        "id": "GANKMzRZuNLt"
      },
      "outputs": [],
      "source": [
        "df=pd.read_csv('/content/Churn_Modelling.csv')\n",
        "\n",
        "df.head(10)"
      ]
    },
    {
      "cell_type": "markdown",
      "metadata": {
        "id": "klKMYJSIRQDV"
      },
      "source": [
        "#HANDLE THE MISSING VALUES"
      ]
    },
    {
      "cell_type": "code",
      "execution_count": null,
      "metadata": {
        "colab": {
          "base_uri": "https://localhost:8080/"
        },
        "id": "5EOuacDS9XGt",
        "outputId": "c030079c-497d-489e-ec30-b16ed16b5475"
      },
      "outputs": [
        {
          "data": {
            "text/plain": [
              "RowNumber          0\n",
              "CustomerId         0\n",
              "Surname            0\n",
              "CreditScore        0\n",
              "Geography          0\n",
              "Gender             0\n",
              "Age                0\n",
              "Tenure             0\n",
              "Balance            0\n",
              "NumOfProducts      0\n",
              "HasCrCard          0\n",
              "IsActiveMember     0\n",
              "EstimatedSalary    0\n",
              "Exited             0\n",
              "dtype: int64"
            ]
          },
          "execution_count": 69,
          "metadata": {},
          "output_type": "execute_result"
        }
      ],
      "source": [
        "df.isnull().sum()"
      ]
    },
    {
      "cell_type": "code",
      "execution_count": null,
      "metadata": {
        "id": "TsSe-tcc9imT"
      },
      "outputs": [],
      "source": [
        "df.info()  #check data type"
      ]
    },
    {
      "cell_type": "markdown",
      "metadata": {
        "id": "BGZrFYM4RytC"
      },
      "source": [
        "#UNIVARIATE ANALYSIS AND DESCRIPTIVE STATISTICS"
      ]
    },
    {
      "cell_type": "code",
      "execution_count": null,
      "metadata": {
        "colab": {
          "base_uri": "https://localhost:8080/"
        },
        "id": "p2Es2bMER2hf",
        "outputId": "d7196385-35e9-4bd6-a252-946a5796be64"
      },
      "outputs": [
        {
          "data": {
            "text/plain": [
              "38.9218"
            ]
          },
          "execution_count": 70,
          "metadata": {},
          "output_type": "execute_result"
        }
      ],
      "source": [
        "df['Age'].mean()"
      ]
    },
    {
      "cell_type": "code",
      "execution_count": null,
      "metadata": {
        "colab": {
          "base_uri": "https://localhost:8080/"
        },
        "id": "59SxrbfLR-4l",
        "outputId": "883b2a39-02b3-455a-f693-03cea8de2369"
      },
      "outputs": [
        {
          "data": {
            "text/plain": [
              "<bound method NDFrame._add_numeric_operations.<locals>.median of 0       42\n",
              "1       41\n",
              "2       42\n",
              "3       39\n",
              "4       43\n",
              "        ..\n",
              "9995    39\n",
              "9996    35\n",
              "9997    36\n",
              "9998    42\n",
              "9999    28\n",
              "Name: Age, Length: 10000, dtype: int64>"
            ]
          },
          "execution_count": 72,
          "metadata": {},
          "output_type": "execute_result"
        }
      ],
      "source": [
        "df['Age'].median"
      ]
    },
    {
      "cell_type": "code",
      "execution_count": null,
      "metadata": {
        "colab": {
          "base_uri": "https://localhost:8080/"
        },
        "id": "9RJZYLjwR_mN",
        "outputId": "57749136-838d-495d-a126-b657105bc8c2"
      },
      "outputs": [
        {
          "data": {
            "text/plain": [
              "10.487806451704609"
            ]
          },
          "execution_count": 71,
          "metadata": {},
          "output_type": "execute_result"
        }
      ],
      "source": [
        "df['Age'].std()"
      ]
    },
    {
      "cell_type": "markdown",
      "metadata": {
        "id": "Oo0H0pnmTzBu"
      },
      "source": [
        "# **Perform  Visualizations**\n"
      ]
    },
    {
      "cell_type": "code",
      "execution_count": null,
      "metadata": {
        "id": "DfgYNXppUREZ"
      },
      "outputs": [],
      "source": [
        "import seaborn as sns"
      ]
    },
    {
      "cell_type": "code",
      "execution_count": null,
      "metadata": {
        "id": "lg9Nr-N26x8u"
      },
      "outputs": [],
      "source": [
        "sns.lineplot(legend='auto')\n",
        "plt.xlabel('Age', color='blue')\n",
        "plt.ylabel('customer_id',color='red')"
      ]
    },
    {
      "cell_type": "markdown",
      "metadata": {
        "id": "9u8N6ziUA5cY"
      },
      "source": [
        "#Split data dependent & independent"
      ]
    },
    {
      "cell_type": "code",
      "execution_count": null,
      "metadata": {
        "id": "MZhXwo0UBCZl"
      },
      "outputs": [],
      "source": [
        "x = df.iloc[:,:-1].values\n",
        "x\n",
        "\n",
        "y = df.iloc[:,-1].values\n",
        "y\n"
      ]
    },
    {
      "cell_type": "markdown",
      "metadata": {
        "id": "__6Tqc2iMh8N"
      },
      "source": [
        "#CATEGORICAL COLUMMN AND PERFORM ENCODING"
      ]
    },
    {
      "cell_type": "code",
      "execution_count": null,
      "metadata": {
        "colab": {
          "base_uri": "https://localhost:8080/"
        },
        "id": "l2gAKjeyNHD_",
        "outputId": "cf014471-e24c-4316-a8bf-738078d24aae"
      },
      "outputs": [
        {
          "name": "stdout",
          "output_type": "stream",
          "text": [
            "int64\n"
          ]
        }
      ],
      "source": [
        "print(df['Age'].dtypes)"
      ]
    },
    {
      "cell_type": "markdown",
      "metadata": {
        "id": "WzfhxdmGOHWM"
      },
      "source": [
        "#SPLIT THE DATA INTO TRAINING AND TESTING"
      ]
    },
    {
      "cell_type": "code",
      "execution_count": null,
      "metadata": {
        "id": "lUfuNpreONAN"
      },
      "outputs": [],
      "source": [
        "xtrain, xtest, ytrain, ytest = train_test_split(\n",
        "    x, y, test_size=0.3, random_state=0)"
      ]
    },
    {
      "cell_type": "markdown",
      "metadata": {
        "id": "Hli0ywiJQIJm"
      },
      "source": [
        "#SCALE THE INDEPENDENT VALUES"
      ]
    },
    {
      "cell_type": "code",
      "execution_count": null,
      "metadata": {
        "colab": {
          "base_uri": "https://localhost:8080/"
        },
        "id": "LhVM0xBeQLvK",
        "outputId": "7ddf09c6-fc25-4b9c-f5da-3d07b826aa0b"
      },
      "outputs": [
        {
          "data": {
            "text/plain": [
              "array([1, 0, 1, ..., 1, 1, 0])"
            ]
          },
          "execution_count": 66,
          "metadata": {},
          "output_type": "execute_result"
        }
      ],
      "source": [
        "y = df.iloc[:,-1].values\n",
        "y"
      ]
    }
  ],
  "metadata": {
    "colab": {
      "collapsed_sections": [],
      "provenance": [],
      "toc_visible": true
    },
    "kernelspec": {
      "display_name": "Python 3.8.5 ('base')",
      "language": "python",
      "name": "python3"
    },
    "language_info": {
      "name": "python",
      "version": "3.8.5"
    },
    "vscode": {
      "interpreter": {
        "hash": "91ef297d2c20ec26c1c00e52a288503e745ed63c120622c332940a8048169368"
      }
    }
  },
  "nbformat": 4,
  "nbformat_minor": 0
}
