{
  "nbformat": 4,
  "nbformat_minor": 0,
  "metadata": {
    "colab": {
      "provenance": [],
      "collapsed_sections": [],
      "toc_visible": true
    },
    "kernelspec": {
      "name": "python3",
      "display_name": "Python 3"
    },
    "language_info": {
      "name": "python"
    }
  },
  "cells": [
    {
      "cell_type": "markdown",
      "source": [
        "# **Load the dataset**\n"
      ],
      "metadata": {
        "id": "vj8flNBBcSCW"
      }
    },
    {
      "cell_type": "code",
      "source": [
        "import numpy as np\n",
        "import pandas as pd\n",
        "import matplotlib.pyplot as plt"
      ],
      "metadata": {
        "id": "7oERv9FcdrI2"
      },
      "execution_count": null,
      "outputs": []
    },
    {
      "cell_type": "code",
      "source": [
        "df=pd.read_csv('/content/Churn_Modelling.csv')\n",
        "\n",
        "df.head(10)"
      ],
      "metadata": {
        "id": "GANKMzRZuNLt"
      },
      "execution_count": null,
      "outputs": []
    },
    {
      "cell_type": "markdown",
      "source": [
        "#HANDLE THE MISSING VALUES"
      ],
      "metadata": {
        "id": "klKMYJSIRQDV"
      }
    },
    {
      "cell_type": "code",
      "source": [
        "df.isnull().sum()"
      ],
      "metadata": {
        "colab": {
          "base_uri": "https://localhost:8080/"
        },
        "id": "5EOuacDS9XGt",
        "outputId": "c030079c-497d-489e-ec30-b16ed16b5475"
      },
      "execution_count": null,
      "outputs": [
        {
          "output_type": "execute_result",
          "data": {
            "text/plain": [
              "RowNumber          0\n",
              "CustomerId         0\n",
              "Surname            0\n",
              "CreditScore        0\n",
              "Geography          0\n",
              "Gender             0\n",
              "Age                0\n",
              "Tenure             0\n",
              "Balance            0\n",
              "NumOfProducts      0\n",
              "HasCrCard          0\n",
              "IsActiveMember     0\n",
              "EstimatedSalary    0\n",
              "Exited             0\n",
              "dtype: int64"
            ]
          },
          "metadata": {},
          "execution_count": 69
        }
      ]
    },
    {
      "cell_type": "code",
      "source": [
        "df.info()  #check data type"
      ],
      "metadata": {
        "id": "TsSe-tcc9imT"
      },
      "execution_count": null,
      "outputs": []
    },
    {
      "cell_type": "markdown",
      "source": [
        "#UNIVARIATE ANALYSIS AND DESCRIPTIVE STATISTICS"
      ],
      "metadata": {
        "id": "BGZrFYM4RytC"
      }
    },
    {
      "cell_type": "code",
      "source": [
        "df['Age'].mean()"
      ],
      "metadata": {
        "colab": {
          "base_uri": "https://localhost:8080/"
        },
        "id": "p2Es2bMER2hf",
        "outputId": "d7196385-35e9-4bd6-a252-946a5796be64"
      },
      "execution_count": null,
      "outputs": [
        {
          "output_type": "execute_result",
          "data": {
            "text/plain": [
              "38.9218"
            ]
          },
          "metadata": {},
          "execution_count": 70
        }
      ]
    },
    {
      "cell_type": "code",
      "source": [
        "df['Age'].median"
      ],
      "metadata": {
        "colab": {
          "base_uri": "https://localhost:8080/"
        },
        "id": "59SxrbfLR-4l",
        "outputId": "883b2a39-02b3-455a-f693-03cea8de2369"
      },
      "execution_count": null,
      "outputs": [
        {
          "output_type": "execute_result",
          "data": {
            "text/plain": [
              "<bound method NDFrame._add_numeric_operations.<locals>.median of 0       42\n",
              "1       41\n",
              "2       42\n",
              "3       39\n",
              "4       43\n",
              "        ..\n",
              "9995    39\n",
              "9996    35\n",
              "9997    36\n",
              "9998    42\n",
              "9999    28\n",
              "Name: Age, Length: 10000, dtype: int64>"
            ]
          },
          "metadata": {},
          "execution_count": 72
        }
      ]
    },
    {
      "cell_type": "code",
      "source": [
        "df['Age'].std()"
      ],
      "metadata": {
        "colab": {
          "base_uri": "https://localhost:8080/"
        },
        "id": "9RJZYLjwR_mN",
        "outputId": "57749136-838d-495d-a126-b657105bc8c2"
      },
      "execution_count": null,
      "outputs": [
        {
          "output_type": "execute_result",
          "data": {
            "text/plain": [
              "10.487806451704609"
            ]
          },
          "metadata": {},
          "execution_count": 71
        }
      ]
    },
    {
      "cell_type": "markdown",
      "source": [
        "# **Perform  Visualizations**\n"
      ],
      "metadata": {
        "id": "Oo0H0pnmTzBu"
      }
    },
    {
      "cell_type": "code",
      "source": [
        "import seaborn as sns"
      ],
      "metadata": {
        "id": "DfgYNXppUREZ"
      },
      "execution_count": null,
      "outputs": []
    },
    {
      "cell_type": "code",
      "source": [
        "sns.lineplot(legend='auto')\n",
        "plt.xlabel('Age', color='blue')\n",
        "plt.ylabel('customer_id',color='red')"
      ],
      "metadata": {
        "id": "lg9Nr-N26x8u"
      },
      "execution_count": null,
      "outputs": []
    },
    {
      "cell_type": "markdown",
      "source": [
        "#Split data dependent & independent"
      ],
      "metadata": {
        "id": "9u8N6ziUA5cY"
      }
    },
    {
      "cell_type": "code",
      "source": [
        "x = df.iloc[:,:-1].values\n",
        "x\n",
        "\n",
        "y = df.iloc[:,-1].values\n",
        "y\n"
      ],
      "metadata": {
        "id": "MZhXwo0UBCZl"
      },
      "execution_count": null,
      "outputs": []
    },
    {
      "cell_type": "markdown",
      "source": [
        "#CATEGORICAL COLUMMN AND PERFORM ENCODING"
      ],
      "metadata": {
        "id": "__6Tqc2iMh8N"
      }
    },
    {
      "cell_type": "code",
      "source": [
        "print(df['Age'].dtypes)"
      ],
      "metadata": {
        "colab": {
          "base_uri": "https://localhost:8080/"
        },
        "id": "l2gAKjeyNHD_",
        "outputId": "cf014471-e24c-4316-a8bf-738078d24aae"
      },
      "execution_count": null,
      "outputs": [
        {
          "output_type": "stream",
          "name": "stdout",
          "text": [
            "int64\n"
          ]
        }
      ]
    },
    {
      "cell_type": "markdown",
      "source": [
        "#SPLIT THE DATA INTO TRAINING AND TESTING"
      ],
      "metadata": {
        "id": "WzfhxdmGOHWM"
      }
    },
    {
      "cell_type": "code",
      "source": [
        "xtrain, xtest, ytrain, ytest = train_test_split(\n",
        "    x, y, test_size=0.3, random_state=0)"
      ],
      "metadata": {
        "id": "lUfuNpreONAN"
      },
      "execution_count": null,
      "outputs": []
    },
    {
      "cell_type": "markdown",
      "source": [
        "#SCALE THE INDEPENDENT VALUES"
      ],
      "metadata": {
        "id": "Hli0ywiJQIJm"
      }
    },
    {
      "cell_type": "code",
      "source": [
        "y = df.iloc[:,-1].values\n",
        "y"
      ],
      "metadata": {
        "colab": {
          "base_uri": "https://localhost:8080/"
        },
        "id": "LhVM0xBeQLvK",
        "outputId": "7ddf09c6-fc25-4b9c-f5da-3d07b826aa0b"
      },
      "execution_count": null,
      "outputs": [
        {
          "output_type": "execute_result",
          "data": {
            "text/plain": [
              "array([1, 0, 1, ..., 1, 1, 0])"
            ]
          },
          "metadata": {},
          "execution_count": 66
        }
      ]
    }
  ]
}